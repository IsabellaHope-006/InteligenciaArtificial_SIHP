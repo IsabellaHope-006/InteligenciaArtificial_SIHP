{
  "nbformat": 4,
  "nbformat_minor": 0,
  "metadata": {
    "colab": {
      "provenance": [],
      "authorship_tag": "ABX9TyMh8KfS+PpqznciU0TMIlq3",
      "include_colab_link": true
    },
    "kernelspec": {
      "name": "python3",
      "display_name": "Python 3"
    },
    "language_info": {
      "name": "python"
    }
  },
  "cells": [
    {
      "cell_type": "markdown",
      "metadata": {
        "id": "view-in-github",
        "colab_type": "text"
      },
      "source": [
        "<a href=\"https://colab.research.google.com/github/IsabellaHope-006/InteligenciaArtificial_SIHP/blob/main/Evaluaci%C3%B3n.ipynb\" target=\"_parent\"><img src=\"https://colab.research.google.com/assets/colab-badge.svg\" alt=\"Open In Colab\"/></a>"
      ]
    },
    {
      "cell_type": "markdown",
      "source": [
        "Evaluación\n",
        "Crear un notebook en colab a partir del programa base de la compuerta AND\n",
        "Modificar para que funcione con las dos compuertas AND y OR\n",
        "Criterios de aceptación: El programa va a solicitar los valores del datashet para X0 y X1, por lo cual\n",
        "la impresión de resultados debe mostrar la compuerta AND y la compuerta OR (Y).\n",
        "Menu interactivo donde pregunte si quiero introducir otro datashet\n",
        "\n",
        "\n"
      ],
      "metadata": {
        "id": "-94ZjK7g4jRM"
      }
    },
    {
      "cell_type": "code",
      "execution_count": null,
      "metadata": {
        "colab": {
          "base_uri": "https://localhost:8080/"
        },
        "id": "V2IsTzUz4Xg0",
        "outputId": "56424558-cf71-422d-f4fe-cf687569c8b5"
      },
      "outputs": [
        {
          "output_type": "stream",
          "name": "stdout",
          "text": [
            "\n",
            "--- Simulación de Compuertas AND y OR ---\n",
            "Escribe el valor para X0 (0 o 1): 0\n",
            "Escribe el valor para X1 (0 o 1): 0\n",
            "\n",
            "Resultados:\n",
            "0 AND 0 = 0\n",
            "0 OR 0 = 0\n",
            "\n",
            "¿Quieres probar con otros valores? (sí/no): si\n",
            "\n",
            "--- Simulación de Compuertas AND y OR ---\n",
            "Escribe el valor para X0 (0 o 1): 0\n",
            "Escribe el valor para X1 (0 o 1): 1\n",
            "\n",
            "Resultados:\n",
            "0 AND 1 = 0\n",
            "0 OR 1 = 1\n",
            "\n",
            "¿Quieres probar con otros valores? (sí/no): si\n",
            "\n",
            "--- Simulación de Compuertas AND y OR ---\n",
            "Escribe el valor para X0 (0 o 1): 1\n",
            "Escribe el valor para X1 (0 o 1): 1\n",
            "\n",
            "Resultados:\n",
            "1 AND 1 = 1\n",
            "1 OR 1 = 1\n",
            "\n",
            "¿Quieres probar con otros valores? (sí/no): si\n",
            "\n",
            "--- Simulación de Compuertas AND y OR ---\n",
            "Escribe el valor para X0 (0 o 1): 1\n",
            "Escribe el valor para X1 (0 o 1): 0\n",
            "\n",
            "Resultados:\n",
            "1 AND 0 = 0\n",
            "1 OR 0 = 1\n"
          ]
        }
      ],
      "source": [
        "# Función para calcular la salida de una compuerta lógica\n",
        "def calcular_salida(entradas, pesos, sesgo):\n",
        "    activacion = sum([entradas[i] * pesos[i] for i in range(len(entradas))]) + sesgo\n",
        "    return 1 if activacion > 0 else 0\n",
        "\n",
        "# Función para pedir los valores de entrada al usuario\n",
        "def solicitar_valores():\n",
        "    while True:\n",
        "        try:\n",
        "            entrada1 = int(input(\"Escribe el valor para X0 (0 o 1): \"))\n",
        "            entrada2 = int(input(\"Escribe el valor para X1 (0 o 1): \"))\n",
        "\n",
        "            # Validar que las entradas sean 0 o 1\n",
        "            if entrada1 in [0, 1] and entrada2 in [0, 1]:\n",
        "                return [entrada1, entrada2]\n",
        "            else:\n",
        "                print(\"Solo se permiten valores 0 o 1. Inténtalo de nuevo.\")\n",
        "        except ValueError:\n",
        "            print(\"Entrada inválida. Asegúrate de introducir números enteros.\")\n",
        "\n",
        "# Función principal que ejecuta el programa\n",
        "def ejecutar_simulacion():\n",
        "    continuar = True\n",
        "    while continuar:\n",
        "        print(\"\\n--- Simulación de Compuertas AND y OR ---\")\n",
        "\n",
        "        # Obtener entradas\n",
        "        entradas = solicitar_valores()\n",
        "\n",
        "        # Definir pesos y sesgos para AND y OR\n",
        "        pesos = [1, 1]\n",
        "        sesgo_and = -1\n",
        "        sesgo_or = 0\n",
        "\n",
        "        # Calcular los resultados para AND y OR\n",
        "        resultado_and = calcular_salida(entradas, pesos, sesgo_and)\n",
        "        resultado_or = calcular_salida(entradas, pesos, sesgo_or)\n",
        "\n",
        "        # Mostrar resultados\n",
        "        print(f\"\\nResultados:\")\n",
        "        print(f\"{entradas[0]} AND {entradas[1]} = {resultado_and}\")\n",
        "        print(f\"{entradas[0]} OR {entradas[1]} = {resultado_or}\")\n",
        "\n",
        "        # Preguntar si se desea continuar\n",
        "        respuesta = input(\"\\n¿Quieres probar con otros valores? (sí/no): \").strip().lower()\n",
        "        if respuesta != 'si':\n",
        "            continuar = False\n",
        "            print(\"Saliendo del programa.\")\n",
        "\n",
        "# Ejecutar la simulación\n",
        "ejecutar_simulacion()\n"
      ]
    }
  ]
}