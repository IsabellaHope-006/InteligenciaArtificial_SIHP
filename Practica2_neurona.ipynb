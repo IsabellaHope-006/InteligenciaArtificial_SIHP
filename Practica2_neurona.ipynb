{
  "nbformat": 4,
  "nbformat_minor": 0,
  "metadata": {
    "colab": {
      "provenance": [],
      "authorship_tag": "ABX9TyM46uVI7UdpdnTnKrrmBY6C",
      "include_colab_link": true
    },
    "kernelspec": {
      "name": "python3",
      "display_name": "Python 3"
    },
    "language_info": {
      "name": "python"
    }
  },
  "cells": [
    {
      "cell_type": "markdown",
      "metadata": {
        "id": "view-in-github",
        "colab_type": "text"
      },
      "source": [
        "<a href=\"https://colab.research.google.com/github/IsabellaHope-006/InteligenciaArtificial_SIHP/blob/main/Practica2_neurona.ipynb\" target=\"_parent\"><img src=\"https://colab.research.google.com/assets/colab-badge.svg\" alt=\"Open In Colab\"/></a>"
      ]
    },
    {
      "cell_type": "markdown",
      "source": [
        "00 -> 0\n",
        "01 -> 0\n",
        "10 -> 0\n",
        "11 -> 1"
      ],
      "metadata": {
        "id": "CcWn3NJ7Mwan"
      }
    },
    {
      "cell_type": "code",
      "execution_count": 1,
      "metadata": {
        "colab": {
          "base_uri": "https://localhost:8080/"
        },
        "id": "sfRngmr4Mpyu",
        "outputId": "b19eaa7b-81b2-45c4-ab1c-a926919ff308"
      },
      "outputs": [
        {
          "output_type": "stream",
          "name": "stdout",
          "text": [
            "10\n",
            "1 AND 0 = 1\n"
          ]
        }
      ],
      "source": [
        "x=[1,0]\n",
        "w=[10,0]\n",
        "s=0\n",
        "y=0\n",
        "for i in range(0,2):\n",
        "  s=s+x[i]*w[i]\n",
        "print(s)\n",
        "\n",
        "y=1 if s>0 else 0\n",
        "print(x[0],'AND',x[1],'=',y)"
      ]
    },
    {
      "cell_type": "markdown",
      "source": [
        "Tarea buscar el peso \"W\" correcto que nos de los resultados correctos en las combinaciones de datos de entrada \"X\" de la compuerta and \"S\""
      ],
      "metadata": {
        "id": "d9A72df3M9v8"
      }
    },
    {
      "cell_type": "code",
      "source": [
        "x = [1, 0]  # Cambia esto para probar otras combinaciones, como [1, 1], [0, 0], [0, 1]\n",
        "w = [1, 1]  # Pesos corregidos\n",
        "s = 0\n",
        "y = 0\n",
        "\n",
        "for i in range(0, 2):\n",
        "    s = s + x[i] * w[i]\n",
        "print(s)\n",
        "\n",
        "y = 1 if s == 2 else 0  # Solo cuando s = 2 (1 AND 1) la salida será 1\n",
        "print(x[0], 'AND', x[1], '=', y)"
      ],
      "metadata": {
        "colab": {
          "base_uri": "https://localhost:8080/"
        },
        "id": "NM-Va6tCM-qS",
        "outputId": "64f12caa-1331-4fe5-a6bf-30ce269c380e"
      },
      "execution_count": 3,
      "outputs": [
        {
          "output_type": "stream",
          "name": "stdout",
          "text": [
            "1\n",
            "1 AND 0 = 0\n"
          ]
        }
      ]
    },
    {
      "cell_type": "markdown",
      "source": [
        "El vector de pesos w = [1, 1] garantiza que solo cuando ambas entradas sean 1 (es decir, 1 AND 1), la suma será igual a 2.\n",
        "Usamos la condición s == 2 para que el resultado sea 1 solo cuando ambas entradas son 1. Para las demás combinaciones, la suma será menor que 2 y el resultado será 0."
      ],
      "metadata": {
        "id": "tZT52wGKPN9J"
      }
    },
    {
      "cell_type": "code",
      "source": [
        "x = [0, 0]\n",
        "w = [1, 1]\n",
        "s = -1\n",
        "y = 0\n",
        "\n",
        "for i in range(0, 2):\n",
        "    s = s + x[i] * w[i]\n",
        "print(s)\n",
        "\n",
        "y = 1 if s > 0 else 0\n",
        "print(x[0], 'AND', x[1], '=', y)"
      ],
      "metadata": {
        "colab": {
          "base_uri": "https://localhost:8080/"
        },
        "id": "m8qLgOvsPPOp",
        "outputId": "0aeff013-374b-4c82-a8a5-6d6ae2d81872"
      },
      "execution_count": 2,
      "outputs": [
        {
          "output_type": "stream",
          "name": "stdout",
          "text": [
            "-1\n",
            "0 AND 0 = 0\n"
          ]
        }
      ]
    }
  ]
}