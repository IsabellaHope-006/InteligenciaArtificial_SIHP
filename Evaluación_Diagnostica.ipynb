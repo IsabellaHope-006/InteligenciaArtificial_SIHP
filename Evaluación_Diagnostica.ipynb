{
  "nbformat": 4,
  "nbformat_minor": 0,
  "metadata": {
    "colab": {
      "provenance": [],
      "authorship_tag": "ABX9TyNwPUCBlz4lzrP57+E6O5fO",
      "include_colab_link": true
    },
    "kernelspec": {
      "name": "python3",
      "display_name": "Python 3"
    },
    "language_info": {
      "name": "python"
    }
  },
  "cells": [
    {
      "cell_type": "markdown",
      "metadata": {
        "id": "view-in-github",
        "colab_type": "text"
      },
      "source": [
        "<a href=\"https://colab.research.google.com/github/IsabellaHope-006/InteligenciaArtificial_SIHP/blob/main/Evaluaci%C3%B3n_Diagnostica.ipynb\" target=\"_parent\"><img src=\"https://colab.research.google.com/assets/colab-badge.svg\" alt=\"Open In Colab\"/></a>"
      ]
    },
    {
      "cell_type": "code",
      "execution_count": null,
      "metadata": {
        "id": "-2sug1FXU5xB"
      },
      "outputs": [],
      "source": []
    },
    {
      "cell_type": "markdown",
      "source": [
        "Declarar una lista en pyhton"
      ],
      "metadata": {
        "id": "AtCtKc4GVyNM"
      }
    },
    {
      "cell_type": "code",
      "source": [
        "my_list = [1,2,3]\n",
        "print (my_list)"
      ],
      "metadata": {
        "colab": {
          "base_uri": "https://localhost:8080/"
        },
        "id": "g1ajpCUcV1Tc",
        "outputId": "52f5ebf7-66a0-4706-dd3c-a89156ef882f"
      },
      "execution_count": 2,
      "outputs": [
        {
          "output_type": "stream",
          "name": "stdout",
          "text": [
            "[1, 2, 3]\n"
          ]
        }
      ]
    },
    {
      "cell_type": "markdown",
      "source": [
        "¿Qué función se usa para cnocer el número de elementos en una lista?"
      ],
      "metadata": {
        "id": "Uz_hquqAXFt0"
      }
    },
    {
      "cell_type": "code",
      "source": [
        "print(len(my_list))"
      ],
      "metadata": {
        "colab": {
          "base_uri": "https://localhost:8080/"
        },
        "id": "uRtxOVc9XTfL",
        "outputId": "b7d2c3e3-57c5-4e16-94db-2a272a924f33"
      },
      "execution_count": 3,
      "outputs": [
        {
          "output_type": "stream",
          "name": "stdout",
          "text": [
            "3\n"
          ]
        }
      ]
    },
    {
      "cell_type": "markdown",
      "source": [
        "¿Qué resultado obtendremos al ejecutar el siguiente código?"
      ],
      "metadata": {
        "id": "WefjHfMsXbmA"
      }
    },
    {
      "cell_type": "code",
      "source": [
        "a = [1,2,3,4,5]\n",
        "print(a[::-1])"
      ],
      "metadata": {
        "colab": {
          "base_uri": "https://localhost:8080/"
        },
        "id": "IQkMWmX6XkXa",
        "outputId": "59def1da-12b1-4305-9043-6d63447ea6fe"
      },
      "execution_count": 4,
      "outputs": [
        {
          "output_type": "stream",
          "name": "stdout",
          "text": [
            "[5, 4, 3, 2, 1]\n"
          ]
        }
      ]
    },
    {
      "cell_type": "markdown",
      "source": [
        "5.- ¿Cuál es el resultado de la siguiente expresión?"
      ],
      "metadata": {
        "id": "ENKvk5gAYJX9"
      }
    },
    {
      "cell_type": "code",
      "source": [
        "print(3*\"5\"+2)"
      ],
      "metadata": {
        "colab": {
          "base_uri": "https://localhost:8080/",
          "height": 141
        },
        "id": "z-7x91b_YPgf",
        "outputId": "fe55d7ef-f46e-45bd-bb02-d6e30ffc70ec"
      },
      "execution_count": 5,
      "outputs": [
        {
          "output_type": "error",
          "ename": "TypeError",
          "evalue": "can only concatenate str (not \"int\") to str",
          "traceback": [
            "\u001b[0;31m---------------------------------------------------------------------------\u001b[0m",
            "\u001b[0;31mTypeError\u001b[0m                                 Traceback (most recent call last)",
            "\u001b[0;32m<ipython-input-5-ecf93d8422a1>\u001b[0m in \u001b[0;36m<cell line: 1>\u001b[0;34m()\u001b[0m\n\u001b[0;32m----> 1\u001b[0;31m \u001b[0mprint\u001b[0m\u001b[0;34m(\u001b[0m\u001b[0;36m3\u001b[0m\u001b[0;34m*\u001b[0m\u001b[0;34m\"5\"\u001b[0m\u001b[0;34m+\u001b[0m\u001b[0;36m2\u001b[0m\u001b[0;34m)\u001b[0m\u001b[0;34m\u001b[0m\u001b[0;34m\u001b[0m\u001b[0m\n\u001b[0m",
            "\u001b[0;31mTypeError\u001b[0m: can only concatenate str (not \"int\") to str"
          ]
        }
      ]
    },
    {
      "cell_type": "markdown",
      "source": [
        "6.-¿Qué slaida generará el siguiente código?"
      ],
      "metadata": {
        "id": "yqvfPsBYYvsp"
      }
    },
    {
      "cell_type": "code",
      "source": [
        "def foo(x, y=[]):\n",
        "  y.append(x)\n",
        "  return y\n",
        "\n",
        "  print(foo(1))\n",
        "  print(foo(2,[]))\n",
        "  print(foo(3))"
      ],
      "metadata": {
        "id": "KgB4HwVfY8M8"
      },
      "execution_count": 15,
      "outputs": []
    },
    {
      "cell_type": "markdown",
      "source": [
        "Qué resultado obtendremos al ejecutar el siguiente código?"
      ],
      "metadata": {
        "id": "tYjX4NKGZiQB"
      }
    },
    {
      "cell_type": "code",
      "source": [
        "def multiply_list(numbers,factor):\n",
        "  result = []\n",
        "  for nunmber in numbers:\n",
        "    result.append(number*factor)\n",
        "    return result\n",
        "\n",
        "    my_list = [1,2,3]\n",
        "    output = multiply_list(my_list,2)\n",
        "    print(output)"
      ],
      "metadata": {
        "id": "GRDPyn6tZ12k"
      },
      "execution_count": 12,
      "outputs": []
    }
  ]
}