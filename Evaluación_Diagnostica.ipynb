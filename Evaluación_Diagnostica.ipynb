{
  "cells": [
    {
      "cell_type": "markdown",
      "metadata": {
        "id": "view-in-github",
        "colab_type": "text"
      },
      "source": [
        "<a href=\"https://colab.research.google.com/github/IsabellaHope-006/InteligenciaArtificial_SIHP/blob/main/Evaluaci%C3%B3n_Diagnostica.ipynb\" target=\"_parent\"><img src=\"https://colab.research.google.com/assets/colab-badge.svg\" alt=\"Open In Colab\"/></a>"
      ]
    },
    {
      "cell_type": "markdown",
      "metadata": {
        "id": "HayH7jXFglQ8"
      },
      "source": [
        "# Evaluación Diágnostica"
      ]
    },
    {
      "cell_type": "code",
      "execution_count": null,
      "metadata": {
        "id": "-2sug1FXU5xB"
      },
      "outputs": [],
      "source": []
    },
    {
      "cell_type": "markdown",
      "metadata": {
        "id": "AtCtKc4GVyNM"
      },
      "source": [
        "Declarar una lista en pyhton"
      ]
    },
    {
      "cell_type": "code",
      "execution_count": null,
      "metadata": {
        "colab": {
          "base_uri": "https://localhost:8080/"
        },
        "id": "g1ajpCUcV1Tc",
        "outputId": "52f5ebf7-66a0-4706-dd3c-a89156ef882f"
      },
      "outputs": [
        {
          "name": "stdout",
          "output_type": "stream",
          "text": [
            "[1, 2, 3]\n"
          ]
        }
      ],
      "source": [
        "my_list = [1,2,3]\n",
        "print (my_list)"
      ]
    },
    {
      "cell_type": "markdown",
      "metadata": {
        "id": "Uz_hquqAXFt0"
      },
      "source": [
        "¿Qué función se usa para cnocer el número de elementos en una lista?"
      ]
    },
    {
      "cell_type": "code",
      "execution_count": null,
      "metadata": {
        "colab": {
          "base_uri": "https://localhost:8080/"
        },
        "id": "uRtxOVc9XTfL",
        "outputId": "b7d2c3e3-57c5-4e16-94db-2a272a924f33"
      },
      "outputs": [
        {
          "name": "stdout",
          "output_type": "stream",
          "text": [
            "3\n"
          ]
        }
      ],
      "source": [
        "print(len(my_list))"
      ]
    },
    {
      "cell_type": "markdown",
      "metadata": {
        "id": "WefjHfMsXbmA"
      },
      "source": [
        "¿Qué resultado obtendremos al ejecutar el siguiente código?"
      ]
    },
    {
      "cell_type": "code",
      "execution_count": null,
      "metadata": {
        "colab": {
          "base_uri": "https://localhost:8080/"
        },
        "id": "IQkMWmX6XkXa",
        "outputId": "59def1da-12b1-4305-9043-6d63447ea6fe"
      },
      "outputs": [
        {
          "name": "stdout",
          "output_type": "stream",
          "text": [
            "[5, 4, 3, 2, 1]\n"
          ]
        }
      ],
      "source": [
        "a = [1,2,3,4,5]\n",
        "print(a[::-1])"
      ]
    },
    {
      "cell_type": "markdown",
      "metadata": {
        "id": "ENKvk5gAYJX9"
      },
      "source": [
        "5.- ¿Cuál es el resultado de la siguiente expresión?"
      ]
    },
    {
      "cell_type": "code",
      "execution_count": null,
      "metadata": {
        "colab": {
          "base_uri": "https://localhost:8080/",
          "height": 141
        },
        "id": "z-7x91b_YPgf",
        "outputId": "fe55d7ef-f46e-45bd-bb02-d6e30ffc70ec"
      },
      "outputs": [
        {
          "ename": "TypeError",
          "evalue": "can only concatenate str (not \"int\") to str",
          "output_type": "error",
          "traceback": [
            "\u001b[0;31m---------------------------------------------------------------------------\u001b[0m",
            "\u001b[0;31mTypeError\u001b[0m                                 Traceback (most recent call last)",
            "\u001b[0;32m<ipython-input-5-ecf93d8422a1>\u001b[0m in \u001b[0;36m<cell line: 1>\u001b[0;34m()\u001b[0m\n\u001b[0;32m----> 1\u001b[0;31m \u001b[0mprint\u001b[0m\u001b[0;34m(\u001b[0m\u001b[0;36m3\u001b[0m\u001b[0;34m*\u001b[0m\u001b[0;34m\"5\"\u001b[0m\u001b[0;34m+\u001b[0m\u001b[0;36m2\u001b[0m\u001b[0;34m)\u001b[0m\u001b[0;34m\u001b[0m\u001b[0;34m\u001b[0m\u001b[0m\n\u001b[0m",
            "\u001b[0;31mTypeError\u001b[0m: can only concatenate str (not \"int\") to str"
          ]
        }
      ],
      "source": [
        "print(3*\"5\"+2)"
      ]
    },
    {
      "cell_type": "markdown",
      "metadata": {
        "id": "yqvfPsBYYvsp"
      },
      "source": [
        "6.-¿Qué slaida generará el siguiente código?"
      ]
    },
    {
      "cell_type": "code",
      "execution_count": null,
      "metadata": {
        "id": "KgB4HwVfY8M8"
      },
      "outputs": [],
      "source": [
        "def foo(x, y=[]):\n",
        "  y.append(x)\n",
        "  return y\n",
        "\n",
        "  print(foo(1))\n",
        "  print(foo(2,[]))\n",
        "  print(foo(3))"
      ]
    },
    {
      "cell_type": "markdown",
      "metadata": {
        "id": "tYjX4NKGZiQB"
      },
      "source": [
        "Qué resultado obtendremos al ejecutar el siguiente código?"
      ]
    },
    {
      "cell_type": "code",
      "execution_count": null,
      "metadata": {
        "id": "GRDPyn6tZ12k"
      },
      "outputs": [],
      "source": [
        "def multiply_list(numbers, factor):\n",
        "  result = []\n",
        "  for number in numbers:\n",
        "    result.append(number * factor)\n",
        "    return result\n",
        "\n",
        "    my_list = [1,2,3]\n",
        "    output = multiply_list(my_list, 2)\n",
        "    print(output)"
      ]
    },
    {
      "cell_type": "markdown",
      "metadata": {
        "id": "mwUOMwRPg6nT"
      },
      "source": [
        "# Práctica de python"
      ]
    },
    {
      "cell_type": "markdown",
      "metadata": {
        "id": "4lz7PzNShTzk"
      },
      "source": [
        "Clasificación de una lista de números pares e impares"
      ]
    },
    {
      "cell_type": "code",
      "execution_count": null,
      "metadata": {
        "id": "tBB9vEu-hatS"
      },
      "outputs": [],
      "source": [
        "#Declaración de variables\n",
        "numeros = [10,25,36,98,77,34,89,50]\n",
        "pares = []\n",
        "impares = []"
      ]
    },
    {
      "cell_type": "code",
      "execution_count": null,
      "metadata": {
        "id": "cGtKXu83ilzm"
      },
      "outputs": [],
      "source": [
        "#Ciclo for para recorrer la lista\n",
        "for numero in numeros:\n",
        "  if numero % 2 == 0:\n",
        "    #pares[0] = numeros[0];Java, c, c++ \"0 es el valor de i\"\n",
        "    pares.append(numero)\n",
        "  else:\n",
        "      impares.append(numero)"
      ]
    },
    {
      "cell_type": "code",
      "execution_count": null,
      "metadata": {
        "colab": {
          "base_uri": "https://localhost:8080/"
        },
        "id": "3llbVbhQj9F0",
        "outputId": "047fc4d8-10a2-4e77-f414-8fecc11d98c6"
      },
      "outputs": [
        {
          "name": "stdout",
          "output_type": "stream",
          "text": [
            "Pares:  [10, 36, 98, 34, 50] total:  5\n",
            "Impares:  [25, 77, 89] total:  3\n"
          ]
        }
      ],
      "source": [
        "#impresión de resultados\n",
        "print(\"Pares: \",pares , \"total: \", len(pares))\n",
        "print(\"Impares: \", impares , \"total: \", len(impares))"
      ]
    },
    {
      "cell_type": "code",
      "execution_count": null,
      "metadata": {
        "id": "yFk9nEimmPyT"
      },
      "outputs": [],
      "source": [
        "# Funcion suma de los numeros pares\n",
        "def suma_lista(lista):\n",
        "  suma = 0\n",
        "  for numero in lista:\n",
        "    suma += numero\n",
        "  return suma"
      ]
    },
    {
      "cell_type": "code",
      "execution_count": null,
      "metadata": {
        "colab": {
          "base_uri": "https://localhost:8080/"
        },
        "id": "67nlwwEtnQCb",
        "outputId": "dc75b0f5-d72f-4ac9-c736-47a2b21eb826"
      },
      "outputs": [
        {
          "name": "stdout",
          "output_type": "stream",
          "text": [
            "La suma de pares 228\n"
          ]
        }
      ],
      "source": [
        "#impresion de la suma\n",
        "print(\"La suma de pares\" , suma_lista(pares))"
      ]
    },
    {
      "cell_type": "markdown",
      "metadata": {
        "id": "hrjMb4a7aRbr"
      },
      "source": [
        "# Práctica 2_Ejercicios Python"
      ]
    },
    {
      "cell_type": "markdown",
      "metadata": {
        "id": "FqRaucxoal6q"
      },
      "source": [
        "Un taller automotriz necesita llevar un control de su inventario de repuestos. Crea un programa que permita agregar, eliminar y consultar la cantidad de repuestos disponibles, así como realizar una compra cuando el inventario de un repuesto está bajo."
      ]
    },
    {
      "cell_type": "code",
      "source": [
        "print('Bienvenido al programa de gestion de inventarios'.center(60,'-'))\n",
        "# Imprime un mensaje de bienvenida centrado con guiones como relleno a los lados\n",
        "\n",
        "cantidad = []  # Lista vacía para almacenar las cantidades de los productos\n",
        "productos = []  # Lista vacía para almacenar los nombres de los productos\n",
        "precio = []  # Lista vacía para almacenar los precios de los productos\n",
        "\n",
        "while True:  # Inicia un ciclo que continuará hasta que el usuario elija salir\n",
        "    print(\"\"\"\n",
        "    (1) Anadir productos\n",
        "    (2) Buscar productos\n",
        "    (3) Modificar productos\n",
        "    (4) Ver productos\n",
        "    (5) Salir\n",
        "    \"\"\")\n",
        "    # Muestra el menú de opciones para el usuario\n",
        "\n",
        "    respuesta = int(input('Ingrese su opcion: '))\n",
        "    # Solicita al usuario que ingrese una opción del menú\n",
        "\n",
        "    if respuesta == 1:  # Si la opción es 1, añade un nuevo producto\n",
        "        ac = int(input('Ingrese la cantidad de su producto: '))\n",
        "        # Solicita la cantidad del producto\n",
        "        ap = input('Ingrese el nombre de su producto: ')\n",
        "        # Solicita el nombre del producto\n",
        "        apre = int(input('Ingrese el precio de su producto: '))\n",
        "        # Solicita el precio del producto\n",
        "\n",
        "        cantidad.append(ac)  # Añade la cantidad ingresada a la lista 'cantidad'\n",
        "        productos.append(ap)  # Añade el nombre ingresado a la lista 'productos'\n",
        "        precio.append(apre)  # Añade el precio ingresado a la lista 'precio'\n",
        "\n",
        "    elif respuesta == 2:  # Si la opción es 2, busca un producto en las listas\n",
        "        buscador = input('Ingrese el nombre del producto que quiere buscar: ')\n",
        "        # Solicita el nombre del producto que el usuario quiere buscar\n",
        "        posicion = productos.index(buscador)\n",
        "        # Busca el índice (posición) del producto en la lista 'productos'\n",
        "        print('La cantidad del producto es: ', cantidad[posicion])\n",
        "        # Muestra la cantidad del producto usando el índice encontrado\n",
        "        print('El nombre del producto es: ', productos[posicion])\n",
        "        # Muestra el nombre del producto usando el índice encontrado\n",
        "        print('El precio del producto es: ', precio[posicion])\n",
        "        # Muestra el precio del producto usando el índice encontrado\n",
        "\n",
        "    elif respuesta == 3:  # Si la opción es 3, permite modificar un producto existente\n",
        "        buscador = input('Ingrese el nombre del producto que quiere modificar: ')\n",
        "        # Solicita el nombre del producto que el usuario quiere modificar\n",
        "        posicion = productos.index(buscador)\n",
        "        # Encuentra la posición del producto en la lista 'productos'\n",
        "        ac = int(input('Ingrese la cantidad de su producto: '))\n",
        "        # Solicita la nueva cantidad del producto\n",
        "        ap = input('Ingrese el nombre de su producto: ')\n",
        "        # Solicita el nuevo nombre del producto\n",
        "        apre = int(input('Ingrese el precio de su producto: '))\n",
        "        # Solicita el nuevo precio del producto\n",
        "\n",
        "        cantidad[posicion] = ac  # Actualiza la cantidad en la posición correspondiente\n",
        "        productos[posicion] = ap  # Actualiza el nombre en la posición correspondiente\n",
        "        precio[posicion] = apre  # Actualiza el precio en la posición correspondiente\n",
        "\n",
        "    elif respuesta == 4:  # Si la opción es 4, muestra todos los productos con su cantidad y precio\n",
        "        print('La cantidad es: ', cantidad)\n",
        "        # Muestra la lista de cantidades\n",
        "        print('El nombre es: ', productos)\n",
        "        # Muestra la lista de nombres de productos\n",
        "        print('El precio es: ', precio)\n",
        "        # Muestra la lista de precios\n",
        "\n",
        "    else:  # Si el usuario ingresa cualquier otra opción, el programa termina\n",
        "        break  # Rompe el ciclo y termina el programa\n"
      ],
      "metadata": {
        "colab": {
          "base_uri": "https://localhost:8080/"
        },
        "id": "abZWpU0VpEW8",
        "outputId": "b6268a8f-652e-4235-a7f9-03446ea0b807"
      },
      "execution_count": null,
      "outputs": [
        {
          "name": "stdout",
          "output_type": "stream",
          "text": [
            "------Bienvenido al programa de gestion de inventarios------\n",
            "\n",
            "    (1) Anadir productos\n",
            "    (2) Buscar productos\n",
            "    (3) Modificar productos\n",
            "    (4) Ver productos\n",
            "    (5) Salir\n",
            "    \n",
            "Ingrese su opcion: 1\n",
            "Ingrese la cantidad de su producto: 20\n",
            "Ingrese el nombre de su producto: Kit de Emergencias\n",
            "Ingrese el precio de su producto: 1425\n",
            "\n",
            "    (1) Anadir productos\n",
            "    (2) Buscar productos\n",
            "    (3) Modificar productos\n",
            "    (4) Ver productos\n",
            "    (5) Salir\n",
            "    \n",
            "Ingrese su opcion: 4\n",
            "La cantidad es:  [20]\n",
            "El nombre es:  ['Kit de Emergencias']\n",
            "El precio es:  [1425]\n",
            "\n",
            "    (1) Anadir productos\n",
            "    (2) Buscar productos\n",
            "    (3) Modificar productos\n",
            "    (4) Ver productos\n",
            "    (5) Salir\n",
            "    \n",
            "Ingrese su opcion: 5\n"
          ]
        }
      ]
    },
    {
      "cell_type": "markdown",
      "metadata": {
        "id": "VO4_ko7aF49a"
      },
      "source": [
        "Una empresa de servicios a terceros ofrece proyectos de consultoría y debe llevar el control de horas trabajadas por sus empleados en diferentes proyectos. Crea un programa que calcule las horas totales trabajadas por cada empleado en varios proyectos y su costo total en función de la tarifa por hora"
      ]
    },
    {
      "cell_type": "code",
      "source": [
        "class EmpresaConsultoria:\n",
        "    def __init__(self):\n",
        "        # Diccionario que almacena los empleados con sus tarifas y proyectos\n",
        "        self.empleados = {}\n",
        "\n",
        "    def agregar_empleado(self, nombre, tarifa_por_hora):\n",
        "        \"\"\"\n",
        "        Agrega un empleado a la empresa con su tarifa por hora.\n",
        "        \"\"\"\n",
        "        if nombre not in self.empleados:\n",
        "            # Cada empleado tiene una tarifa y un diccionario de proyectos\n",
        "            self.empleados[nombre] = {'tarifa': tarifa_por_hora, 'proyectos': {}}\n",
        "            print(f\"Empleado {nombre} agregado con una tarifa de {tarifa_por_hora} por hora.\")\n",
        "        else:\n",
        "            print(f\"El empleado {nombre} ya existe.\")\n",
        "\n",
        "    def registrar_horas(self, nombre_empleado, nombre_proyecto, horas_trabajadas):\n",
        "        \"\"\"\n",
        "        Registra las horas trabajadas por un empleado en un proyecto.\n",
        "        \"\"\"\n",
        "        if nombre_empleado in self.empleados:\n",
        "            if nombre_proyecto in self.empleados[nombre_empleado]['proyectos']:\n",
        "                # Si el proyecto ya existe para ese empleado, suma las horas\n",
        "                self.empleados[nombre_empleado]['proyectos'][nombre_proyecto] += horas_trabajadas\n",
        "            else:\n",
        "                # Si es un nuevo proyecto, lo añade\n",
        "                self.empleados[nombre_empleado]['proyectos'][nombre_proyecto] = horas_trabajadas\n",
        "            print(f\"Se han registrado {horas_trabajadas} horas para el proyecto {nombre_proyecto} de {nombre_empleado}.\")\n",
        "        else:\n",
        "            print(f\"El empleado {nombre_empleado} no existe.\")\n",
        "\n",
        "    def calcular_horas_totales(self, nombre_empleado):\n",
        "        \"\"\"\n",
        "        Calcula las horas totales trabajadas por un empleado en todos sus proyectos.\n",
        "        \"\"\"\n",
        "        if nombre_empleado in self.empleados:\n",
        "            # Suma las horas de todos los proyectos del empleado\n",
        "            total_horas = sum(self.empleados[nombre_empleado]['proyectos'].values())\n",
        "            print(f\"El empleado {nombre_empleado} ha trabajado un total de {total_horas} horas.\")\n",
        "            return total_horas\n",
        "        else:\n",
        "            print(f\"El empleado {nombre_empleado} no existe.\")\n",
        "            return 0\n",
        "\n",
        "    def calcular_costo_total(self, nombre_empleado):\n",
        "        \"\"\"\n",
        "        Calcula el costo total de las horas trabajadas por un empleado según su tarifa.\n",
        "        \"\"\"\n",
        "        if nombre_empleado in self.empleados:\n",
        "            total_horas = self.calcular_horas_totales(nombre_empleado)\n",
        "            tarifa = self.empleados[nombre_empleado]['tarifa']\n",
        "            costo_total = total_horas * tarifa\n",
        "            print(f\"El costo total de las horas trabajadas por {nombre_empleado} es de {costo_total:.2f}.\")\n",
        "            return costo_total\n",
        "        else:\n",
        "            print(f\"El empleado {nombre_empleado} no existe.\")\n",
        "            return 0\n",
        "\n",
        "    def resumen_empleado(self, nombre_empleado):\n",
        "        \"\"\"\n",
        "        Muestra un resumen con las horas trabajadas por proyecto y el costo total del empleado.\n",
        "        \"\"\"\n",
        "        if nombre_empleado in self.empleados:\n",
        "            print(f\"Resumen del empleado {nombre_empleado}:\")\n",
        "            for proyecto, horas in self.empleados[nombre_empleado]['proyectos'].items():\n",
        "                print(f\"Proyecto {proyecto}: {horas} horas\")\n",
        "            self.calcular_costo_total(nombre_empleado)\n",
        "        else:\n",
        "            print(f\"El empleado {nombre_empleado} no existe.\")\n",
        "\n",
        "\n",
        "# Ejemplo de uso\n",
        "empresa = EmpresaConsultoria()\n",
        "\n",
        "# Agregar empleados\n",
        "empresa.agregar_empleado(\"Juan\", 50)\n",
        "empresa.agregar_empleado(\"María\", 60)\n",
        "\n",
        "# Registrar horas trabajadas en proyectos\n",
        "empresa.registrar_horas(\"Sergio\", \"Proyecto A\", 10)\n",
        "empresa.registrar_horas(\"Juan\", \"Proyecto B\", 5)\n",
        "empresa.registrar_horas(\"María\", \"Proyecto A\", 8)\n",
        "empresa.registrar_horas(\"María\", \"Proyecto C\", 12)\n",
        "\n",
        "# Calcular horas totales y costos para cada empleado\n",
        "empresa.resumen_empleado(\"Juan\")\n",
        "empresa.resumen_empleado(\"María\")\n"
      ],
      "metadata": {
        "colab": {
          "base_uri": "https://localhost:8080/"
        },
        "id": "NBbIjI-41Ft6",
        "outputId": "11921158-af06-4424-91c8-61f63b4eef39"
      },
      "execution_count": null,
      "outputs": [
        {
          "output_type": "stream",
          "name": "stdout",
          "text": [
            "Empleado Juan agregado con una tarifa de 50 por hora.\n",
            "Empleado María agregado con una tarifa de 60 por hora.\n",
            "El empleado Sergio no existe.\n",
            "Se han registrado 5 horas para el proyecto Proyecto B de Juan.\n",
            "Se han registrado 8 horas para el proyecto Proyecto A de María.\n",
            "Se han registrado 12 horas para el proyecto Proyecto C de María.\n",
            "Resumen del empleado Juan:\n",
            "Proyecto Proyecto B: 5 horas\n",
            "El empleado Juan ha trabajado un total de 5 horas.\n",
            "El costo total de las horas trabajadas por Juan es de 250.00.\n",
            "Resumen del empleado María:\n",
            "Proyecto Proyecto A: 8 horas\n",
            "Proyecto Proyecto C: 12 horas\n",
            "El empleado María ha trabajado un total de 20 horas.\n",
            "El costo total de las horas trabajadas por María es de 1200.00.\n"
          ]
        }
      ]
    }
  ],
  "metadata": {
    "colab": {
      "toc_visible": true,
      "provenance": [],
      "authorship_tag": "ABX9TyOg2Pza6UuyYlfW9xJjUG48",
      "include_colab_link": true
    },
    "kernelspec": {
      "display_name": "Python 3",
      "name": "python3"
    },
    "language_info": {
      "name": "python"
    }
  },
  "nbformat": 4,
  "nbformat_minor": 0
}