{
  "nbformat": 4,
  "nbformat_minor": 0,
  "metadata": {
    "colab": {
      "provenance": [],
      "authorship_tag": "ABX9TyMsdq6kd1isnNQAn1c9tZGP",
      "include_colab_link": true
    },
    "kernelspec": {
      "name": "python3",
      "display_name": "Python 3"
    },
    "language_info": {
      "name": "python"
    }
  },
  "cells": [
    {
      "cell_type": "markdown",
      "metadata": {
        "id": "view-in-github",
        "colab_type": "text"
      },
      "source": [
        "<a href=\"https://colab.research.google.com/github/IsabellaHope-006/InteligenciaArtificial_SIHP/blob/main/Lista.ipynb\" target=\"_parent\"><img src=\"https://colab.research.google.com/assets/colab-badge.svg\" alt=\"Open In Colab\"/></a>"
      ]
    },
    {
      "cell_type": "code",
      "execution_count": null,
      "metadata": {
        "id": "-2sug1FXU5xB"
      },
      "outputs": [],
      "source": []
    },
    {
      "cell_type": "markdown",
      "source": [
        "Declarar una lista en pyhton"
      ],
      "metadata": {
        "id": "AtCtKc4GVyNM"
      }
    },
    {
      "cell_type": "code",
      "source": [
        "my_list=[1,2,3]"
      ],
      "metadata": {
        "id": "g1ajpCUcV1Tc"
      },
      "execution_count": 1,
      "outputs": []
    }
  ]
}